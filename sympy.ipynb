{
 "cells": [
  {
   "cell_type": "markdown",
   "metadata": {},
   "source": [
    "# Libreria Paracálculo simbólico"
   ]
  },
  {
   "cell_type": "markdown",
   "metadata": {},
   "source": [
    "## Cálculo numérico"
   ]
  },
  {
   "cell_type": "code",
   "execution_count": 3,
   "metadata": {},
   "outputs": [
    {
     "data": {
      "text/plain": [
       "2.8284271247461903"
      ]
     },
     "execution_count": 3,
     "metadata": {},
     "output_type": "execute_result"
    }
   ],
   "source": [
    "import math\n",
    "math.sqrt(8)"
   ]
  },
  {
   "cell_type": "code",
   "execution_count": 4,
   "metadata": {},
   "outputs": [
    {
     "data": {
      "text/plain": [
       "2*sqrt(2)"
      ]
     },
     "execution_count": 4,
     "metadata": {},
     "output_type": "execute_result"
    }
   ],
   "source": [
    "import sympy\n",
    "sympy.sqrt(8)"
   ]
  },
  {
   "cell_type": "code",
   "execution_count": 6,
   "metadata": {},
   "outputs": [],
   "source": [
    "sympy.init_printing()"
   ]
  },
  {
   "cell_type": "code",
   "execution_count": 7,
   "metadata": {},
   "outputs": [
    {
     "data": {
      "image/png": "[encoded data removed]",
      "text/latex": [
       "$$2 \\sqrt{2}$$"
      ],
      "text/plain": [
       "2⋅√2"
      ]
     },
     "execution_count": 7,
     "metadata": {},
     "output_type": "execute_result"
    }
   ],
   "source": [
    "sympy.sqrt(8)"
   ]
  },
  {
   "cell_type": "code",
   "execution_count": 8,
   "metadata": {},
   "outputs": [],
   "source": [
    "from sympy import *"
   ]
  },
  {
   "cell_type": "code",
   "execution_count": 9,
   "metadata": {},
   "outputs": [
    {
     "data": {
      "image/png": "[encoded data removed]",
      "text/latex": [
       "$$2 \\sqrt{3}$$"
      ],
      "text/plain": [
       "2⋅√3"
      ]
     },
     "execution_count": 9,
     "metadata": {},
     "output_type": "execute_result"
    }
   ],
   "source": [
    "sqrt(12)"
   ]
  },
  {
   "cell_type": "code",
   "execution_count": 19,
   "metadata": {},
   "outputs": [],
   "source": [
    "x = Symbol(\"x\")"
   ]
  },
  {
   "cell_type": "code",
   "execution_count": 20,
   "metadata": {},
   "outputs": [
    {
     "data": {
      "image/png": "[encoded data removed]",
      "text/latex": [
       "$$e^{x} \\sin{\\left (x \\right )} + e^{x} \\cos{\\left (x \\right )}$$"
      ],
      "text/plain": [
       " x           x       \n",
       "ℯ ⋅sin(x) + ℯ ⋅cos(x)"
      ]
     },
     "execution_count": 20,
     "metadata": {},
     "output_type": "execute_result"
    }
   ],
   "source": [
    "diff(sin(x)*exp(x),x)"
   ]
  },
  {
   "cell_type": "code",
   "execution_count": 21,
   "metadata": {},
   "outputs": [
    {
     "data": {
      "image/png": "[encoded data removed]",
      "text/latex": [
       "$$x^{2} e^{x} + 2 x e^{x}$$"
      ],
      "text/plain": [
       " 2  x        x\n",
       "x ⋅ℯ  + 2⋅x⋅ℯ "
      ]
     },
     "execution_count": 21,
     "metadata": {},
     "output_type": "execute_result"
    }
   ],
   "source": [
    "diff(x**2*exp(x),x)"
   ]
  },
  {
   "cell_type": "code",
   "execution_count": 22,
   "metadata": {},
   "outputs": [
    {
     "data": {
      "image/png": "[encoded data removed]",
      "text/latex": [
       "$$\\frac{\\left(x^{4} - 2 x^{2} + 2\\right) e^{x^{2}}}{2}$$"
      ],
      "text/plain": [
       "                 ⎛ 2⎞\n",
       "⎛ 4      2    ⎞  ⎝x ⎠\n",
       "⎝x  - 2⋅x  + 2⎠⋅ℯ    \n",
       "─────────────────────\n",
       "          2          "
      ]
     },
     "execution_count": 22,
     "metadata": {},
     "output_type": "execute_result"
    }
   ],
   "source": [
    "integrate(x**5*exp(x**2))"
   ]
  },
  {
   "cell_type": "code",
   "execution_count": 24,
   "metadata": {},
   "outputs": [
    {
     "data": {
      "image/png": "[encoded data removed]",
      "text/latex": [
       "$$1$$"
      ],
      "text/plain": [
       "1"
      ]
     },
     "execution_count": 24,
     "metadata": {},
     "output_type": "execute_result"
    }
   ],
   "source": [
    "limit(sin(x)/x,x,0)"
   ]
  },
  {
   "cell_type": "code",
   "execution_count": 28,
   "metadata": {},
   "outputs": [
    {
     "data": {
      "image/png": "[encoded data removed]",
      "text/latex": [
       "$$\\sqrt{\\pi}$$"
      ],
      "text/plain": [
       "√π"
      ]
     },
     "execution_count": 28,
     "metadata": {},
     "output_type": "execute_result"
    }
   ],
   "source": [
    "integrate(exp(-x**2),(x,-oo,oo))"
   ]
  },
  {
   "cell_type": "code",
   "execution_count": 29,
   "metadata": {},
   "outputs": [
    {
     "data": {
      "image/png": "[encoded data removed]",
      "text/latex": [
       "$$\\left [ - \\sqrt{2}, \\quad \\sqrt{2}\\right ]$$"
      ],
      "text/plain": [
       "[-√2, √2]"
      ]
     },
     "execution_count": 29,
     "metadata": {},
     "output_type": "execute_result"
    }
   ],
   "source": [
    "solve(x**2-2,x)"
   ]
  },
  {
   "cell_type": "code",
   "execution_count": 32,
   "metadata": {},
   "outputs": [],
   "source": [
    "a,b,c = symbols(\"a b c\")"
   ]
  },
  {
   "cell_type": "code",
   "execution_count": 36,
   "metadata": {},
   "outputs": [
    {
     "data": {
      "image/png": "[encoded data removed]",
      "text/latex": [
       "$$\\left [ \\frac{- b + \\sqrt{- 2 a c + b^{2}}}{a}, \\quad - \\frac{b + \\sqrt{- 2 a c + b^{2}}}{a}\\right ]$$"
      ],
      "text/plain": [
       "⎡        _____________   ⎛       _____________⎞ ⎤\n",
       "⎢       ╱           2    ⎜      ╱           2 ⎟ ⎥\n",
       "⎢-b + ╲╱  -2⋅a⋅c + b    -⎝b + ╲╱  -2⋅a⋅c + b  ⎠ ⎥\n",
       "⎢─────────────────────, ────────────────────────⎥\n",
       "⎣          a                       a            ⎦"
      ]
     },
     "execution_count": 36,
     "metadata": {},
     "output_type": "execute_result"
    }
   ],
   "source": [
    "solve(a/2*x**2+b*x+c,x)"
   ]
  },
  {
   "cell_type": "code",
   "execution_count": 53,
   "metadata": {},
   "outputs": [
    {
     "data": {
      "image/png": "[encoded data removed]",
      "text/latex": [
       "$$\\left[\\begin{matrix}1 & 2 & 1\\\\3 & 4 & 5\\\\2 & 5 & 8\\end{matrix}\\right]$$"
      ],
      "text/plain": [
       "⎡1  2  1⎤\n",
       "⎢       ⎥\n",
       "⎢3  4  5⎥\n",
       "⎢       ⎥\n",
       "⎣2  5  8⎦"
      ]
     },
     "execution_count": 53,
     "metadata": {},
     "output_type": "execute_result"
    }
   ],
   "source": [
    "A = Matrix([ [1,2,1],[3,4,5],[2,5,8] ])\n",
    "A"
   ]
  },
  {
   "cell_type": "code",
   "execution_count": 54,
   "metadata": {},
   "outputs": [
    {
     "data": {
      "image/png": "[encoded data removed]",
      "text/latex": [
       "$$\\left ( \\left[\\begin{matrix}- \\frac{1}{2} & \\frac{11}{14} & - \\frac{3}{7}\\\\1 & - \\frac{3}{7} & \\frac{1}{7}\\\\- \\frac{1}{2} & \\frac{1}{14} & \\frac{1}{7}\\end{matrix}\\right], \\quad \\left[\\begin{matrix}1 & 3 & 2\\\\2 & 4 & 5\\\\1 & 5 & 8\\end{matrix}\\right], \\quad \\left \\{ \\frac{13}{3} + \\left(- \\frac{1}{2} - \\frac{\\sqrt{3} i}{2}\\right) \\sqrt[3]{\\frac{2729}{54} + \\frac{\\sqrt{290487} i}{18}} + \\frac{136}{9 \\left(- \\frac{1}{2} - \\frac{\\sqrt{3} i}{2}\\right) \\sqrt[3]{\\frac{2729}{54} + \\frac{\\sqrt{290487} i}{18}}} : 1, \\quad \\frac{13}{3} + \\frac{136}{9 \\left(- \\frac{1}{2} + \\frac{\\sqrt{3} i}{2}\\right) \\sqrt[3]{\\frac{2729}{54} + \\frac{\\sqrt{290487} i}{18}}} + \\left(- \\frac{1}{2} + \\frac{\\sqrt{3} i}{2}\\right) \\sqrt[3]{\\frac{2729}{54} + \\frac{\\sqrt{290487} i}{18}} : 1, \\quad \\frac{13}{3} + \\frac{136}{9 \\sqrt[3]{\\frac{2729}{54} + \\frac{\\sqrt{290487} i}{18}}} + \\sqrt[3]{\\frac{2729}{54} + \\frac{\\sqrt{290487} i}{18}} : 1\\right \\}, \\quad \\left[\\begin{matrix}12941 & 24615 & 34123\\\\41665 & 79267 & 109911\\\\58761 & 111808 & 155055\\end{matrix}\\right]\\right )$$"
      ],
      "text/plain": [
       "⎛⎡       11       ⎤                                                           \n",
       "⎜⎢-1/2   ──   -3/7⎥  ⎡1  3  2⎤  ⎧                      __________________     \n",
       "⎜⎢       14       ⎥  ⎢       ⎥  ⎪13   ⎛  1   √3⋅ⅈ⎞    ╱ 2729   √290487⋅ⅈ      \n",
       "⎜⎢                ⎥, ⎢2  4  5⎥, ⎪── + ⎜- ─ - ────⎟⋅3 ╱  ──── + ─────────  + ──\n",
       "⎜⎢ 1    -3/7  1/7 ⎥  ⎢       ⎥  ⎨3    ⎝  2    2  ⎠ ╲╱    54        18         \n",
       "⎜⎢                ⎥  ⎣1  5  8⎦  ⎪                                             \n",
       "⎜⎣-1/2  1/14  1/7 ⎦             ⎪                                           9⋅\n",
       "⎝                               ⎩                                             \n",
       "\n",
       "                                                                              \n",
       "                                                                              \n",
       "               136                      13                    136             \n",
       "───────────────────────────────────: 1, ── + ─────────────────────────────────\n",
       "                 __________________     3                       ______________\n",
       "⎛  1   √3⋅ⅈ⎞    ╱ 2729   √290487⋅ⅈ             ⎛  1   √3⋅ⅈ⎞    ╱ 2729   √29048\n",
       "⎜- ─ - ────⎟⋅3 ╱  ──── + ─────────           9⋅⎜- ─ + ────⎟⋅3 ╱  ──── + ──────\n",
       "⎝  2    2  ⎠ ╲╱    54        18                ⎝  2    2  ⎠ ╲╱    54        18\n",
       "\n",
       "                                                                              \n",
       "                        __________________                                    \n",
       "       ⎛  1   √3⋅ⅈ⎞    ╱ 2729   √290487⋅ⅈ      13             136             \n",
       "──── + ⎜- ─ + ────⎟⋅3 ╱  ──── + ───────── : 1, ── + ──────────────────────── +\n",
       "____   ⎝  2    2  ⎠ ╲╱    54        18         3          __________________  \n",
       "7⋅ⅈ                                                      ╱ 2729   √290487⋅ⅈ   \n",
       "───                                                 9⋅3 ╱  ──── + ─────────   \n",
       "                                                      ╲╱    54        18      \n",
       "\n",
       "                                                    ⎞\n",
       "     __________________   ⎫  ⎡12941  24615   34123 ⎤⎟\n",
       "    ╱ 2729   √290487⋅ⅈ    ⎪  ⎢                     ⎥⎟\n",
       " 3 ╱  ──── + ───────── : 1⎪, ⎢41665  79267   109911⎥⎟\n",
       " ╲╱    54        18       ⎬  ⎢                     ⎥⎟\n",
       "                          ⎪  ⎣58761  111808  155055⎦⎟\n",
       "                          ⎪                         ⎟\n",
       "                          ⎭                         ⎠"
      ]
     },
     "execution_count": 54,
     "metadata": {},
     "output_type": "execute_result"
    }
   ],
   "source": [
    "A.inv(), A.T, A.eigenvals(), A**5"
   ]
  },
  {
   "cell_type": "code",
   "execution_count": null,
   "metadata": {},
   "outputs": [],
   "source": []
  }
 ],
 "metadata": {
  "kernelspec": {
   "display_name": "Python 3",
   "language": "python",
   "name": "python3"
  },
  "language_info": {
   "codemirror_mode": {
    "name": "ipython",
    "version": 3
   },
   "file_extension": ".py",
   "mimetype": "text/x-python",
   "name": "python",
   "nbconvert_exporter": "python",
   "pygments_lexer": "ipython3",
   "version": "3.7.2"
  }
 },
 "nbformat": 4,
 "nbformat_minor": 2
}
