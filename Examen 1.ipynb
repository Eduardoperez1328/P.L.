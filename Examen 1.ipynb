{
 "cells": [
  {
   "cell_type": "markdown",
   "metadata": {},
   "source": [
    "### 1. Resuelve el siguiente problema (cualquier método):\n",
    "   \\begin{equation*}\n",
    "   \\begin{aligned}\n",
    "   \\text{Maximizar} \\quad & x+2y\\\\\n",
    "   \\text{sujeto a} \\quad &\n",
    "     \\begin{aligned}\n",
    "      x &\\geq  0\\\\\n",
    "      y &\\geq 0\\\\\n",
    "      2x+y &\\leq 2\n",
    "     \\end{aligned}\n",
    "   \\end{aligned}\n",
    "   \\end{equation*}"
   ]
  },
  {
   "cell_type": "code",
   "execution_count": 6,
   "metadata": {},
   "outputs": [],
   "source": [
    "from pulp import *\n",
    "x = LpVariable(\"x\", 0)\n",
    "y = LpVariable(\"y\", 0)\n"
   ]
  },
  {
   "cell_type": "code",
   "execution_count": 9,
   "metadata": {},
   "outputs": [
    {
     "name": "stdout",
     "output_type": "stream",
     "text": [
      "0.0 2.0 4.0\n"
     ]
    }
   ],
   "source": [
    "prob = LpProblem(\"Pregunta 1\", LpMaximize)\n",
    "prob += 2*x + y <= 2\n",
    "\n",
    "prob += x + 2*y\n",
    "\n",
    "status = prob.solve()\n",
    "\n",
    "print(value(x), value(y),value(prob.objective))"
   ]
  },
  {
   "cell_type": "code",
   "execution_count": 17,
   "metadata": {},
   "outputs": [],
   "source": [
    "import numpy as np\n",
    "import matplotlib.pyplot as plt\n",
    "%matplotlib inline"
   ]
  },
  {
   "cell_type": "code",
   "execution_count": 31,
   "metadata": {},
   "outputs": [
    {
     "data": {
      "text/plain": [
       "<matplotlib.collections.PolyCollection at 0x7f931d5ba3c8>"
      ]
     },
     "execution_count": 31,
     "metadata": {},
     "output_type": "execute_result"
    },
    {
     "data": {
      "image/png": "[encoded data removed]",
      "text/plain": [
       "<Figure size 432x288 with 1 Axes>"
      ]
     },
     "metadata": {
      "needs_background": "light"
     },
     "output_type": "display_data"
    }
   ],
   "source": [
    "# Construct lines\n",
    "# x > 0\n",
    "x = np.linspace(0, 1, 2000)\n",
    "# y >= -2x+2\n",
    "y1 = -2*x +2\n",
    "\n",
    "# Make plot\n",
    "plt.plot(x, y1, label=r'$y\\geq2$')\n",
    "plt.xlim((0, 3))\n",
    "plt.ylim((0, 3))\n",
    "plt.xlabel(r'$x$')\n",
    "plt.ylabel(r'$y$')\n",
    "plt.fill_between(x, y1 , color='green', alpha=0.5)"
   ]
  },
  {
   "cell_type": "markdown",
   "metadata": {},
   "source": [
    "### 2. Resuelve el siguiente problema (cualquier método):\n",
    "   \\begin{equation*}\n",
    "    \\begin{aligned}\n",
    "   \\text{Maximizar} \\quad & x_{1}+2x_{2}\\\\\n",
    "   \\text{sujeto a} \\quad &\n",
    "     \\begin{aligned}\n",
    "      3x_{1}+4x_{2} &\\leq 12\\\\\n",
    "      x_{1}-x_{2} &\\leq 2\\\\\n",
    "      -2x_{1}+x_{2} &\\leq 2\\\\\n",
    "       x_{1} &\\geq 0\\\\\n",
    "       x_{2} &\\geq 0\n",
    "     \\end{aligned}\n",
    "   \\end{aligned}\n",
    "   \\end{equation*}"
   ]
  },
  {
   "cell_type": "code",
   "execution_count": 10,
   "metadata": {},
   "outputs": [],
   "source": [
    "x = LpVariable(\"x\", 0)\n",
    "y = LpVariable(\"y\", 0)"
   ]
  },
  {
   "cell_type": "code",
   "execution_count": 11,
   "metadata": {},
   "outputs": [
    {
     "name": "stdout",
     "output_type": "stream",
     "text": [
      "0.36363636 2.7272727 5.81818176\n"
     ]
    }
   ],
   "source": [
    "prob = LpProblem(\"Pregunta 2\", LpMaximize)\n",
    "prob += 3*x + 4*y <= 12\n",
    "prob += x - y <= 2\n",
    "prob += -2*x + y <= 2\n",
    "\n",
    "prob += x + 2*y\n",
    "\n",
    "status = prob.solve()\n",
    "\n",
    "print(value(x), value(y), value(prob.objective))"
   ]
  },
  {
   "cell_type": "markdown",
   "metadata": {},
   "source": [
    "### 3. Resuelve el siguiente problema (cualquier método):\n",
    "   \\begin{equation*}\n",
    "   \\begin{aligned}\n",
    "   \\text{Maximizar} \\quad & 4x_{1}+x_{2}+3x_{3}\\\\\n",
    "   \\text{sujeto a} \\quad &\n",
    "     \\begin{aligned}\n",
    "      x_{1} & \\leq 3\\\\\n",
    "      x_{2} &\\leq 5\\\\\n",
    "      x_{3} &\\leq 2\\\\\n",
    "      x_{1}+x_{2}+2x_{3} &\\leq 10\\\\\n",
    "      x_{1},x_{2},x_{3} &\\geq 0\n",
    "     \\end{aligned}\n",
    "   \\end{aligned}\n",
    "   \\end{equation*}"
   ]
  },
  {
   "cell_type": "code",
   "execution_count": 14,
   "metadata": {},
   "outputs": [
    {
     "name": "stdout",
     "output_type": "stream",
     "text": [
      "3.0 3.0 2.0 21.0\n"
     ]
    }
   ],
   "source": [
    "x = LpVariable(\"x\", 0)\n",
    "y = LpVariable(\"y\", 0)\n",
    "z = LpVariable(\"z\", 0)\n",
    "prob = LpProblem(\"Pregunta 3\", LpMaximize)\n",
    "prob += x <= 3\n",
    "prob += y <= 5\n",
    "prob += z <= 2\n",
    "prob += x + y + 2*z <= 10\n",
    "\n",
    "prob += 4*x + y + 3*z\n",
    "\n",
    "status = prob.solve()\n",
    "\n",
    "print(value(x), value(y), value(z), value(prob.objective))"
   ]
  },
  {
   "cell_type": "markdown",
   "metadata": {},
   "source": [
    "### 4. Un gerente está planeando cómo distribuir la producción de tres\n",
    "   productos entre dos máquinas. Para ser manufacturado cada producto\n",
    "   requiere cierto tiempo (en horas) en cada una de las máquinas.\n",
    "\n",
    "   El tiempo requerido está resumido en la siguiente tabla:\n",
    "\n",
    "| Producto/maquina | 1 | 2 |\n",
    "|------------------|---|---|\n",
    "|         A        | 1 | 1 |\n",
    "|         B        | 2 | 1 |\n",
    "|         C        | 2 | 2 |\n",
    "\n",
    "   La máquina 1 está disponible 40 horas a la semana y la 2 está\n",
    "   disponible 34 horas a la semana.\n",
    "\n",
    "   Si la utilidad obtenida al vender los productos A, B y C es de 2, 3\n",
    "   y 5 pesos por unidad, respectivamente, ¿cuál debe ser la producción\n",
    "   semanal que maximiza la utilidad? ¿Cuál es la utilidad máxima?"
   ]
  },
  {
   "cell_type": "code",
   "execution_count": 16,
   "metadata": {},
   "outputs": [
    {
     "name": "stdout",
     "output_type": "stream",
     "text": [
      "0.0 6.0 14.0 88.0\n"
     ]
    }
   ],
   "source": [
    "x = LpVariable(\"x\", 0)\n",
    "y = LpVariable(\"y\", 0)\n",
    "z = LpVariable(\"z\", 0)\n",
    "prob = LpProblem(\"Pregunta 3\", LpMaximize)\n",
    "prob += x + 2*y +2*z <= 40\n",
    "prob += x + y + 2*z <= 34\n",
    "\n",
    "prob += 2*x + 3*y + 5*z\n",
    "\n",
    "status = prob.solve()\n",
    "\n",
    "print(value(x), value(y), value(z), value(prob.objective))"
   ]
  },
  {
   "cell_type": "markdown",
   "metadata": {},
   "source": [
    "5. Demuestra que el conjunto \\(\\{(x,y)\\mid x\\geq 0\\}\\subseteq\n",
    "   \\mathbb{R}^{2}\\) es convexo."
   ]
  },
  {
   "cell_type": "code",
   "execution_count": null,
   "metadata": {},
   "outputs": [],
   "source": []
  }
 ],
 "metadata": {
  "kernelspec": {
   "display_name": "Python 3",
   "language": "python",
   "name": "python3"
  },
  "language_info": {
   "codemirror_mode": {
    "name": "ipython",
    "version": 3
   },
   "file_extension": ".py",
   "mimetype": "text/x-python",
   "name": "python",
   "nbconvert_exporter": "python",
   "pygments_lexer": "ipython3",
   "version": "3.7.0"
  }
 },
 "nbformat": 4,
 "nbformat_minor": 2
}
